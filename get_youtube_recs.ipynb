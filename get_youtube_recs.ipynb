{
 "cells": [
  {
   "cell_type": "markdown",
   "id": "7cd44895-1eef-4674-b19d-019af00b3337",
   "metadata": {},
   "source": [
    "# Get YouTube Recommendation Videos from a Seed Video"
   ]
  },
  {
   "cell_type": "markdown",
   "id": "83a6e7b7-271f-4737-9def-b2fa3210618c",
   "metadata": {},
   "source": [
    "## Setup Code"
   ]
  },
  {
   "cell_type": "code",
   "execution_count": null,
   "id": "00f4150d-eb09-4ef1-a407-e35069841508",
   "metadata": {},
   "outputs": [],
   "source": [
    "from selenium import webdriver\n",
    "from selenium.webdriver.common.keys import Keys\n",
    "import pandas as pd\n",
    "import numpy as np\n",
    "from bs4 import BeautifulSoup\n",
    "from random import choices, sample, seed, randrange\n",
    "from datetime import datetime\n",
    "import re"
   ]
  },
  {
   "cell_type": "code",
   "execution_count": null,
   "id": "e154ce73-4e8f-46e1-bb35-78857eb8b729",
   "metadata": {},
   "outputs": [],
   "source": [
    "df = pd.DataFrame(columns=['seed_title', 'seed_url', 'seed_creator', 'seed_viewcount',\n",
    "       'seed_upload_date', 'rec_title', 'rec_url', 'rec_creator',\n",
    "       'rec_viewcount', 'rec_upload_date'])\n",
    "df"
   ]
  },
  {
   "cell_type": "code",
   "execution_count": null,
   "id": "fc9fae42-8352-42f7-bffc-436720884168",
   "metadata": {},
   "outputs": [],
   "source": [
    "def get_title(span):\n",
    "    return span['title']\n",
    "\n",
    "def get_url(span):\n",
    "    return 'https://www.youtube.com' + span.find_parent('a', \"yt-simple-endpoint\")['href']\n",
    "\n",
    "def get_creator(span):\n",
    "    return span.find_parent('a', \"yt-simple-endpoint\").find('yt-formatted-string').get_text()\n",
    "\n",
    "def get_viewcount(span):\n",
    "    try:\n",
    "        return span.find_parent('a', \"yt-simple-endpoint\").find('div', id='metadata-line').find_all('span')[0].get_text()[:-6]\n",
    "    except:\n",
    "        return np.nan\n",
    "\n",
    "def get_uploaddate(span):\n",
    "    try:\n",
    "        return span.find_parent('a', \"yt-simple-endpoint\").find('div', id='metadata-line').find_all('span')[1].get_text()\n",
    "    except:\n",
    "        return np.nan\n",
    "\n",
    "def get_seed_title(soup):\n",
    "    return soup.find('h1', 'title').get_text()\n",
    "\n",
    "def get_seed_creator(soup):\n",
    "    return soup.find('ytd-channel-name').find('yt-formatted-string').get_text()\n",
    "\n",
    "def get_seed_viewcount(soup):\n",
    "    return re.search('[\\d\\,]+',soup.find('span', 'view-count').get_text())[0]\n",
    "    \n",
    "def get_seed_uploaddate(soup):\n",
    "    return soup.find('div', id='date').find('yt-formatted-string').get_text()"
   ]
  },
  {
   "cell_type": "code",
   "execution_count": null,
   "id": "d5be7acb-49a7-4d1c-aa90-c475fe6297e1",
   "metadata": {},
   "outputs": [],
   "source": [
    "counter = 0\n",
    "seed()\n",
    "def get_vid_recs(seed_url):\n",
    "    global counter\n",
    "    driver.get(seed_url)\n",
    "    time.sleep(randrange(20, 30))\n",
    "    soup = BeautifulSoup(driver.page_source)\n",
    "    seed_title = get_seed_title(soup)\n",
    "    seed_creator = get_seed_creator(soup)\n",
    "    seed_viewcount = get_seed_viewcount(soup)\n",
    "    seed_upload_date = get_seed_uploaddate(soup)\n",
    "    rec_spans = soup.find_all('span', id='video-title')[:20]\n",
    "    chosen = sample(rec_spans, k=5)\n",
    "    for sp in chosen:\n",
    "        info = {\n",
    "            \"seed_title\": seed_title, \n",
    "            \"seed_url\": seed_url, \n",
    "            \"seed_creator\": seed_creator, \n",
    "            \"seed_viewcount\": seed_viewcount,\n",
    "            \"seed_upload_date\": seed_upload_date,\n",
    "            \"rec_title\": get_title(sp), \n",
    "            \"rec_url\": get_url(sp), \n",
    "            \"rec_creator\": get_creator(sp),\n",
    "            'rec_viewcount': get_viewcount(sp), \n",
    "            'rec_upload_date': get_uploaddate(sp)\n",
    "        }\n",
    "        print(info)\n",
    "        df.loc[counter] = info\n",
    "        counter += 1\n",
    "    rec_url = get_url(choices(chosen)[0])\n",
    "    print(\"rec_url\", rec_url)\n",
    "    if counter < 100:\n",
    "        get_vid_recs(rec_url)"
   ]
  },
  {
   "cell_type": "markdown",
   "id": "598ab623-7e93-4478-9e17-3d699a03a9c2",
   "metadata": {},
   "source": [
    "## Start Here"
   ]
  },
  {
   "cell_type": "code",
   "execution_count": null,
   "id": "ab09b926-ca24-49ce-9e20-f101bdc90506",
   "metadata": {
    "tags": []
   },
   "outputs": [],
   "source": [
    "driver = webdriver.Chrome()\n",
    "get_vid_recs('https://www.youtube.com/watch?v=ABTdTTnnEU8') # put seed video here"
   ]
  },
  {
   "cell_type": "code",
   "execution_count": null,
   "id": "25d251ce-bd05-4766-8aae-8a6dbc157e73",
   "metadata": {
    "tags": []
   },
   "outputs": [],
   "source": [
    "df"
   ]
  },
  {
   "cell_type": "code",
   "execution_count": null,
   "id": "b98b1285-739c-42d8-be6a-07b5a6078c25",
   "metadata": {},
   "outputs": [],
   "source": [
    "df.to_csv(f\"run{datetime.now().strftime(\"%m-%d-%Y_%H-%M-%S\")}.csv\")"
   ]
  },
  {
   "cell_type": "code",
   "execution_count": null,
   "id": "3f292a28-6af7-4d5b-93c1-c76a84e36224",
   "metadata": {},
   "outputs": [],
   "source": [
    "counter = 55"
   ]
  },
  {
   "cell_type": "code",
   "execution_count": null,
   "id": "99b632a8-b083-44df-849b-51eec8e95fa3",
   "metadata": {},
   "outputs": [],
   "source": [
    "counter"
   ]
  },
  {
   "cell_type": "code",
   "execution_count": null,
   "id": "253d4267-4174-474a-b6dc-6feaed3640c2",
   "metadata": {},
   "outputs": [],
   "source": [
    "soup = BeautifulSoup(driver.page_source)"
   ]
  },
  {
   "cell_type": "code",
   "execution_count": null,
   "id": "60c3b3ba-c07f-4c1f-8a52-db4f560bf654",
   "metadata": {},
   "outputs": [],
   "source": [
    "rec_spans = soup.find_all('span', id='video-title')"
   ]
  },
  {
   "cell_type": "code",
   "execution_count": null,
   "id": "21bb9453-2b5d-47aa-a5fc-d4f5b475ad9a",
   "metadata": {},
   "outputs": [],
   "source": [
    "rec = rec_spans[5]"
   ]
  },
  {
   "cell_type": "code",
   "execution_count": null,
   "id": "50cc4903-d90d-423e-96ef-cdb8c17743f4",
   "metadata": {},
   "outputs": [],
   "source": [
    "rec"
   ]
  },
  {
   "cell_type": "code",
   "execution_count": null,
   "id": "d3610ba5-2e6f-45e1-bd59-039e79041550",
   "metadata": {},
   "outputs": [],
   "source": [
    "rec.find_parent('a', \"yt-simple-endpoint\").find('div', id='metadata-line').find_all('span')[0].get_text()[:-6]"
   ]
  },
  {
   "cell_type": "code",
   "execution_count": null,
   "id": "a2fa4161-e4b5-4b6e-980a-f301951d9c13",
   "metadata": {},
   "outputs": [],
   "source": [
    "rec.find_parent('a', \"yt-simple-endpoint\").find('div', id='metadata-line').find_all('span')[1].get_text()"
   ]
  },
  {
   "cell_type": "markdown",
   "id": "484d5c20-db8b-45bb-8454-e1dd52f411d0",
   "metadata": {},
   "source": [
    "## Clean up data (Ignore if you ran above code)"
   ]
  },
  {
   "cell_type": "code",
   "execution_count": null,
   "id": "ce38f2e9-5e2b-4da3-b21f-d318f54ae011",
   "metadata": {},
   "outputs": [],
   "source": [
    "df = pd.read_csv('run2.csv').iloc[:, 1:]\n",
    "df.head()"
   ]
  },
  {
   "cell_type": "code",
   "execution_count": null,
   "id": "51c3c8cb-3b42-420e-b183-d6b4f73f8742",
   "metadata": {},
   "outputs": [],
   "source": [
    "df.head(20)"
   ]
  },
  {
   "cell_type": "code",
   "execution_count": null,
   "id": "878886b6-3490-4a8b-a807-346620198a45",
   "metadata": {},
   "outputs": [],
   "source": [
    "driver = webdriver.Chrome()"
   ]
  },
  {
   "cell_type": "code",
   "execution_count": null,
   "id": "f8985047-8ea2-42c5-b4f4-7e23f946dcf7",
   "metadata": {},
   "outputs": [],
   "source": [
    "soup = BeautifulSoup(driver.page_source)"
   ]
  },
  {
   "cell_type": "code",
   "execution_count": null,
   "id": "6b45ed21-5567-471c-aed1-7846adcd6a7c",
   "metadata": {},
   "outputs": [],
   "source": [
    "get_seed_uploaddate(soup)"
   ]
  },
  {
   "cell_type": "code",
   "execution_count": null,
   "id": "bc3a2f68-d486-4d99-bcb1-290a2bd39807",
   "metadata": {},
   "outputs": [],
   "source": [
    "get_seed_viewcount(soup)"
   ]
  },
  {
   "cell_type": "code",
   "execution_count": null,
   "id": "f2bacd91-c6d4-4f77-90a3-452442cb3fe1",
   "metadata": {},
   "outputs": [],
   "source": [
    "df.insert(3, 'seed_viewcount', np.nan)"
   ]
  },
  {
   "cell_type": "code",
   "execution_count": null,
   "id": "0f9cab04-16c4-4cbc-a921-3fb0dc8b58d0",
   "metadata": {},
   "outputs": [],
   "source": [
    "df.insert(4, 'seed_upload_date', np.nan)"
   ]
  },
  {
   "cell_type": "code",
   "execution_count": null,
   "id": "c77ad117-bf6d-4d4d-8c6d-b277dae438ef",
   "metadata": {},
   "outputs": [],
   "source": [
    "df.head()"
   ]
  },
  {
   "cell_type": "code",
   "execution_count": null,
   "id": "5d038da5-7ad9-490e-a9d9-edd4b3b3b494",
   "metadata": {},
   "outputs": [],
   "source": [
    "df.insert(8, 'rec_viewcount', np.nan)"
   ]
  },
  {
   "cell_type": "code",
   "execution_count": null,
   "id": "156a003a-7ede-44b4-ad4f-275836845959",
   "metadata": {},
   "outputs": [],
   "source": [
    "df.insert(9, 'rec_upload_date', np.nan)"
   ]
  },
  {
   "cell_type": "code",
   "execution_count": null,
   "id": "c0489aea-ce2b-4947-aebd-5aab71aa704d",
   "metadata": {},
   "outputs": [],
   "source": [
    "df.head()"
   ]
  },
  {
   "cell_type": "code",
   "execution_count": null,
   "id": "b0a6664c-8b70-499c-93dd-4cec03ee5d38",
   "metadata": {},
   "outputs": [],
   "source": [
    "info_dict = {}"
   ]
  },
  {
   "cell_type": "code",
   "execution_count": null,
   "id": "999cbd8b-efe4-43e8-a380-cf5dd4ff70ce",
   "metadata": {},
   "outputs": [],
   "source": [
    "for url in df['rec_url'].unique():\n",
    "    print(url)\n",
    "    if url not in info_dict:\n",
    "        driver.get(url)\n",
    "        time.sleep(randrange(5, 12))\n",
    "        soup = BeautifulSoup(driver.page_source)\n",
    "        info = {'viewcount': get_seed_viewcount(soup), 'upload_date': get_seed_uploaddate(soup)}\n",
    "        info_dict[url] = info\n",
    "        print(info)"
   ]
  },
  {
   "cell_type": "code",
   "execution_count": null,
   "id": "01692883-09a2-4e20-a45a-943ddf22a430",
   "metadata": {},
   "outputs": [],
   "source": [
    "df.head()"
   ]
  },
  {
   "cell_type": "code",
   "execution_count": null,
   "id": "5a425902-84b8-40c1-b772-8bfdc16dd31d",
   "metadata": {},
   "outputs": [],
   "source": [
    "df['seed_url'].apply(lambda u: info_dict[u]['viewcount'])"
   ]
  },
  {
   "cell_type": "code",
   "execution_count": null,
   "id": "da513ca0-7a4a-4750-ae33-97e03a97c239",
   "metadata": {},
   "outputs": [],
   "source": [
    "df['seed_viewcount'] = df['seed_url'].apply(lambda u: info_dict[u]['viewcount'])"
   ]
  },
  {
   "cell_type": "code",
   "execution_count": null,
   "id": "0e2916a1-0de2-45aa-85c8-4c746a263478",
   "metadata": {},
   "outputs": [],
   "source": [
    "df['seed_upload_date'] = df['seed_url'].apply(lambda u: info_dict[u]['upload_date'])"
   ]
  },
  {
   "cell_type": "code",
   "execution_count": null,
   "id": "ccffa27d-a7c7-48b8-ac28-c16a4f70b50b",
   "metadata": {},
   "outputs": [],
   "source": [
    "df['rec_viewcount'] = df['rec_url'].apply(lambda u: info_dict[u]['viewcount'])"
   ]
  },
  {
   "cell_type": "code",
   "execution_count": null,
   "id": "74f85fcc-096b-4890-8480-e2ddf0c4c169",
   "metadata": {},
   "outputs": [],
   "source": [
    "df['rec_upload_date'] = df['rec_url'].apply(lambda u: info_dict[u]['upload_date'])"
   ]
  },
  {
   "cell_type": "code",
   "execution_count": null,
   "id": "bcb4bd0f-c9be-463b-9ab7-efea561960cb",
   "metadata": {},
   "outputs": [],
   "source": [
    "df.to_csv('run2_updated.csv')"
   ]
  },
  {
   "cell_type": "code",
   "execution_count": null,
   "id": "63294afd-1028-4bc8-9be6-a7abefb4344e",
   "metadata": {},
   "outputs": [],
   "source": [
    "df.columns"
   ]
  }
 ],
 "metadata": {
  "kernelspec": {
   "display_name": "Python 3",
   "language": "python",
   "name": "python3"
  },
  "language_info": {
   "codemirror_mode": {
    "name": "ipython",
    "version": 3
   },
   "file_extension": ".py",
   "mimetype": "text/x-python",
   "name": "python",
   "nbconvert_exporter": "python",
   "pygments_lexer": "ipython3",
   "version": "3.8.8"
  }
 },
 "nbformat": 4,
 "nbformat_minor": 5
}
